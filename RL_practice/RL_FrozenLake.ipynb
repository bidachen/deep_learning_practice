{
  "cells": [
    {
      "metadata": {
        "trusted": true
      },
      "cell_type": "code",
      "source": "import numpy as np\nimport gym\nimport random",
      "execution_count": 1,
      "outputs": []
    },
    {
      "metadata": {
        "trusted": true
      },
      "cell_type": "code",
      "source": "env = gym.make(\"FrozenLake-v0\")",
      "execution_count": 2,
      "outputs": []
    },
    {
      "metadata": {
        "trusted": true
      },
      "cell_type": "code",
      "source": "action_size = env.action_space.n\nstate_size = env.observation_space.n",
      "execution_count": 3,
      "outputs": []
    },
    {
      "metadata": {
        "trusted": true
      },
      "cell_type": "code",
      "source": "env.render()",
      "execution_count": 4,
      "outputs": [
        {
          "output_type": "stream",
          "text": "\n\u001b[41mS\u001b[0mFFF\nFHFH\nFFFH\nHFFG\n",
          "name": "stdout"
        }
      ]
    },
    {
      "metadata": {
        "trusted": true
      },
      "cell_type": "code",
      "source": "table = np.zeros((state_size,action_size))\ntable",
      "execution_count": 5,
      "outputs": [
        {
          "output_type": "execute_result",
          "execution_count": 5,
          "data": {
            "text/plain": "array([[0., 0., 0., 0.],\n       [0., 0., 0., 0.],\n       [0., 0., 0., 0.],\n       [0., 0., 0., 0.],\n       [0., 0., 0., 0.],\n       [0., 0., 0., 0.],\n       [0., 0., 0., 0.],\n       [0., 0., 0., 0.],\n       [0., 0., 0., 0.],\n       [0., 0., 0., 0.],\n       [0., 0., 0., 0.],\n       [0., 0., 0., 0.],\n       [0., 0., 0., 0.],\n       [0., 0., 0., 0.],\n       [0., 0., 0., 0.],\n       [0., 0., 0., 0.]])"
          },
          "metadata": {}
        }
      ]
    },
    {
      "metadata": {
        "trusted": true
      },
      "cell_type": "code",
      "source": "total_episodes = 10000\nmax_steps = 100\nlearning_rates = [0.1,0.2,0.3,0.4,0.5,0.6,0.7,0.8,0.9]\ngammas = [0.1,0.2,0.3,0.4,0.5,0.6,0.7,0.8,0.9]\n\nepsilon = 1.0\nmax_epsilon = 1.0\nmin_epsilon = 0.01\ndecay_rate = 0.005",
      "execution_count": null,
      "outputs": []
    },
    {
      "metadata": {
        "trusted": true
      },
      "cell_type": "code",
      "source": "rewards = []\nfor learning_rate in learning_rates:\n    for gamma in gammas:\n        rewards = []\n        table = np.zeros((state_size,action_size))\n        for episode in range(total_episodes):\n            state = env.reset()\n            step = 0\n            done = False\n            total_rewards = 0\n    \n            for step in range(max_steps):\n                exp_tradeoff = random.uniform(0,1)\n                if exp_tradeoff > epsilon:\n                    action = np.argmax(table[state,:])\n                else:\n                    action = env.action_space.sample()\n        \n                new_state, reward, done, _ = env.step(action)\n                table[state, action] = table[state,action] + learning_rate * (reward + gamma * np.max(table[new_state, :]) - table[state, action])\n                total_rewards += reward\n                state = new_state\n        \n                if done:\n                    break\n    \n            epsilon = min_epsilon + (max_epsilon - min_epsilon) * np.exp(-decay_rate * episode)\n            rewards.append(total_rewards)\n        print(learning_rate)\n        print(gamma)\n        print(sum(rewards)/total_episodes)",
      "execution_count": null,
      "outputs": []
    },
    {
      "metadata": {
        "trusted": true
      },
      "cell_type": "code",
      "source": "env.reset()\n\nfor episode in range (100):\n    state = env.reset()\n    step = 0\n    done = False\n    \n    for step in range(max_steps):\n        action = np.argmax(table[state,:])\n        new_state, reward, done, _ = env.step(action)\n        \n        env.render()\n        if done:\n            break\n        state = new_state\nenv.close()",
      "execution_count": null,
      "outputs": []
    },
    {
      "metadata": {
        "trusted": true
      },
      "cell_type": "code",
      "source": "",
      "execution_count": null,
      "outputs": []
    }
  ],
  "metadata": {
    "kernelspec": {
      "name": "python36",
      "display_name": "Python 3.6",
      "language": "python"
    },
    "language_info": {
      "mimetype": "text/x-python",
      "nbconvert_exporter": "python",
      "name": "python",
      "pygments_lexer": "ipython3",
      "version": "3.6.6",
      "file_extension": ".py",
      "codemirror_mode": {
        "version": 3,
        "name": "ipython"
      }
    }
  },
  "nbformat": 4,
  "nbformat_minor": 2
}