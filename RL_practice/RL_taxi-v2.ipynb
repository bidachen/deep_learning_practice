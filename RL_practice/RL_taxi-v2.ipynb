{
  "cells": [
    {
      "metadata": {
        "trusted": true
      },
      "cell_type": "code",
      "source": "import numpy as np\nimport gym\nimport random",
      "execution_count": 1,
      "outputs": []
    },
    {
      "metadata": {
        "trusted": true
      },
      "cell_type": "code",
      "source": "env = gym.make(\"Taxi-v2\")\nenv.render()",
      "execution_count": 2,
      "outputs": [
        {
          "output_type": "stream",
          "text": "+---------+\n|\u001b[34;1mR\u001b[0m: | : :G|\n| : : : : |\n|\u001b[43m \u001b[0m: : : : |\n| | : | : |\n|Y| : |\u001b[35mB\u001b[0m: |\n+---------+\n\n",
          "name": "stdout"
        }
      ]
    },
    {
      "metadata": {
        "trusted": true
      },
      "cell_type": "code",
      "source": "action_size = env.action_space.n\nstate_size = env.observation_space.n",
      "execution_count": 3,
      "outputs": []
    },
    {
      "metadata": {},
      "cell_type": "markdown",
      "source": "Create Q learning table"
    },
    {
      "metadata": {
        "trusted": true
      },
      "cell_type": "code",
      "source": "table=np.zeros((state_size,action_size))\ntable",
      "execution_count": 4,
      "outputs": [
        {
          "output_type": "execute_result",
          "execution_count": 4,
          "data": {
            "text/plain": "array([[0., 0., 0., 0., 0., 0.],\n       [0., 0., 0., 0., 0., 0.],\n       [0., 0., 0., 0., 0., 0.],\n       ...,\n       [0., 0., 0., 0., 0., 0.],\n       [0., 0., 0., 0., 0., 0.],\n       [0., 0., 0., 0., 0., 0.]])"
          },
          "metadata": {}
        }
      ]
    },
    {
      "metadata": {
        "trusted": true
      },
      "cell_type": "code",
      "source": "total_episodes = 50000\ntest_episodes = 100\nmax_steps = 100\nlearning_rate = 0.7\ngamma = 0.6\n\nepsilon = 1.0\nmax_epsilon = 1.0\nmin_epsilon = 0.01\ndecay_rate = 0.01",
      "execution_count": null,
      "outputs": []
    },
    {
      "metadata": {},
      "cell_type": "markdown",
      "source": "Train the model"
    },
    {
      "metadata": {
        "trusted": true
      },
      "cell_type": "code",
      "source": "for episode in range(total_episodes):\n    state = env.reset()\n    step = 0\n    done = False\n     \n    for step in range(max_steps):\n        exp_tradeoff = random.uniform(0,1)\n        if exp_tradeoff > epsilon:\n            action = np.argmax(table[state,:])\n        else:\n            action = env.action_space.sample()\n            \n        new_state, reward, done, info = env.step(action)\n        table[state, action] = table[state,action] + learning_rate * (reward + gamma * np.max(table[new_state, :]) - table[state, action])\n        \n        state = new_state\n        \n        if done:\n            break\n            \n    episode += 1\n    \n    epsilon = min_epsilon + (max_epsilon - min_epsilon) * np.exp(-decay_rate * episode)\n                                ",
      "execution_count": null,
      "outputs": []
    },
    {
      "metadata": {},
      "cell_type": "markdown",
      "source": "Evaluate the model"
    },
    {
      "metadata": {
        "trusted": true
      },
      "cell_type": "code",
      "source": "env.reset()\nrewards = []\nfor episode in range(test_episodes):\n    state = env.reset()\n    step = 0\n    done = False\n    total_rewards = 0\n    \n    \n    for step in range(max_steps):\n        action = np.argmax(table[state, :])\n        \n        env.render()\n        new_state, reward, done, info = env.step(action)\n        \n        total_rewards += reward\n        \n        if done:\n            rewards.append(total_rewards)\n            break\n        state = new_state\nenv.close()\nprint(sum(rewards)/test_episodes)",
      "execution_count": null,
      "outputs": []
    },
    {
      "metadata": {
        "trusted": true
      },
      "cell_type": "code",
      "source": "",
      "execution_count": null,
      "outputs": []
    }
  ],
  "metadata": {
    "kernelspec": {
      "name": "python36",
      "display_name": "Python 3.6",
      "language": "python"
    },
    "language_info": {
      "mimetype": "text/x-python",
      "nbconvert_exporter": "python",
      "name": "python",
      "pygments_lexer": "ipython3",
      "version": "3.6.6",
      "file_extension": ".py",
      "codemirror_mode": {
        "version": 3,
        "name": "ipython"
      }
    }
  },
  "nbformat": 4,
  "nbformat_minor": 2
}